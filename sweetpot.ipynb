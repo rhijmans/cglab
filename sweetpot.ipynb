{
 "cells": [
  {
   "cell_type": "code",
   "execution_count": 3,
   "metadata": {},
   "outputs": [
    {
     "data": {
      "text/html": [
       "<table>\n",
       "<caption>A data.frame: 6 × 19</caption>\n",
       "<thead>\n",
       "\t<tr><th></th><th scope=col>country</th><th scope=col>crop</th><th scope=col>region</th><th scope=col>agroeco</th><th scope=col>season</th><th scope=col>year</th><th scope=col>Officialnameofthevariety</th><th scope=col>improved</th><th scope=col>adoptionconsensus</th><th scope=col>adoptmin</th><th scope=col>adoptmax</th><th scope=col>observation</th><th scope=col>areaccc</th><th scope=col>areatot</th><th scope=col>varsreleasetot</th><th scope=col>varsreleaseCIPtot</th><th scope=col>varsCIPcultivated</th><th scope=col>varcip</th><th scope=col>Remarksonreleaseinformation</th></tr>\n",
       "\t<tr><th></th><th scope=col>&lt;fct&gt;</th><th scope=col>&lt;fct&gt;</th><th scope=col>&lt;fct&gt;</th><th scope=col>&lt;fct&gt;</th><th scope=col>&lt;fct&gt;</th><th scope=col>&lt;fct&gt;</th><th scope=col>&lt;fct&gt;</th><th scope=col>&lt;fct&gt;</th><th scope=col>&lt;fct&gt;</th><th scope=col>&lt;fct&gt;</th><th scope=col>&lt;fct&gt;</th><th scope=col>&lt;fct&gt;</th><th scope=col>&lt;fct&gt;</th><th scope=col>&lt;fct&gt;</th><th scope=col>&lt;fct&gt;</th><th scope=col>&lt;fct&gt;</th><th scope=col>&lt;fct&gt;</th><th scope=col>&lt;fct&gt;</th><th scope=col>&lt;fct&gt;</th></tr>\n",
       "</thead>\n",
       "<tbody>\n",
       "\t<tr><th scope=row>1</th><td>PA1       </td><td>PA2         </td><td>PA2.1</td><td>PA3</td><td>PA4   </td><td>PA5      </td><td>PC1       </td><td>PC2</td><td>PD1</td><td>PD2 </td><td>PD3</td><td>PE</td><td>PB1 </td><td>PF1  </td><td>PF2</td><td>PF3</td><td>PF4</td><td>PF8</td><td>PF9</td></tr>\n",
       "\t<tr><th scope=row>2</th><td>Bangladesh</td><td>Sweet potato</td><td>Dhaka</td><td>   </td><td>Winter</td><td>2014-2015</td><td>CIP 440025</td><td>1  </td><td>5  </td><td>1   </td><td>6  </td><td>  </td><td>8104</td><td>42999</td><td>13 </td><td>8  </td><td>4  </td><td>1  </td><td>   </td></tr>\n",
       "\t<tr><th scope=row>3</th><td>Bangladesh</td><td>Sweet potato</td><td>Dhaka</td><td>   </td><td>Winter</td><td>2014-2015</td><td>D-44      </td><td>1  </td><td>2.5</td><td>0.1 </td><td>5.3</td><td>  </td><td>8104</td><td>42999</td><td>13 </td><td>8  </td><td>4  </td><td>0  </td><td>   </td></tr>\n",
       "\t<tr><th scope=row>4</th><td>Bangladesh</td><td>Sweet potato</td><td>Dhaka</td><td>   </td><td>Winter</td><td>2014-2015</td><td>Tripti    </td><td>1  </td><td>1.2</td><td>0.2 </td><td>5.3</td><td>  </td><td>8104</td><td>42999</td><td>13 </td><td>8  </td><td>4  </td><td>0  </td><td>   </td></tr>\n",
       "\t<tr><th scope=row>5</th><td>Bangladesh</td><td>Sweet potato</td><td>Dhaka</td><td>   </td><td>Winter</td><td>2014-2015</td><td>AIS-0122-2</td><td>1  </td><td>0.8</td><td>0.2 </td><td>5  </td><td>  </td><td>8104</td><td>42999</td><td>13 </td><td>8  </td><td>4  </td><td>0  </td><td>   </td></tr>\n",
       "\t<tr><th scope=row>6</th><td>Bangladesh</td><td>Sweet potato</td><td>Dhaka</td><td>   </td><td>Winter</td><td>2014-2015</td><td>Daulatpuri</td><td>1  </td><td>0.5</td><td>0.25</td><td>0.8</td><td>  </td><td>8104</td><td>42999</td><td>13 </td><td>8  </td><td>4  </td><td>0  </td><td>   </td></tr>\n",
       "</tbody>\n",
       "</table>\n"
      ],
      "text/latex": [
       "A data.frame: 6 × 19\n",
       "\\begin{tabular}{r|lllllllllllllllllll}\n",
       "  & country & crop & region & agroeco & season & year & Officialnameofthevariety & improved & adoptionconsensus & adoptmin & adoptmax & observation & areaccc & areatot & varsreleasetot & varsreleaseCIPtot & varsCIPcultivated & varcip & Remarksonreleaseinformation\\\\\n",
       "  & <fct> & <fct> & <fct> & <fct> & <fct> & <fct> & <fct> & <fct> & <fct> & <fct> & <fct> & <fct> & <fct> & <fct> & <fct> & <fct> & <fct> & <fct> & <fct>\\\\\n",
       "\\hline\n",
       "\t1 & PA1        & PA2          & PA2.1 & PA3 & PA4    & PA5       & PC1        & PC2 & PD1 & PD2  & PD3 & PE & PB1  & PF1   & PF2 & PF3 & PF4 & PF8 & PF9\\\\\n",
       "\t2 & Bangladesh & Sweet potato & Dhaka &     & Winter & 2014-2015 & CIP 440025 & 1   & 5   & 1    & 6   &    & 8104 & 42999 & 13  & 8   & 4   & 1   &    \\\\\n",
       "\t3 & Bangladesh & Sweet potato & Dhaka &     & Winter & 2014-2015 & D-44       & 1   & 2.5 & 0.1  & 5.3 &    & 8104 & 42999 & 13  & 8   & 4   & 0   &    \\\\\n",
       "\t4 & Bangladesh & Sweet potato & Dhaka &     & Winter & 2014-2015 & Tripti     & 1   & 1.2 & 0.2  & 5.3 &    & 8104 & 42999 & 13  & 8   & 4   & 0   &    \\\\\n",
       "\t5 & Bangladesh & Sweet potato & Dhaka &     & Winter & 2014-2015 & AIS-0122-2 & 1   & 0.8 & 0.2  & 5   &    & 8104 & 42999 & 13  & 8   & 4   & 0   &    \\\\\n",
       "\t6 & Bangladesh & Sweet potato & Dhaka &     & Winter & 2014-2015 & Daulatpuri & 1   & 0.5 & 0.25 & 0.8 &    & 8104 & 42999 & 13  & 8   & 4   & 0   &    \\\\\n",
       "\\end{tabular}\n"
      ],
      "text/markdown": [
       "\n",
       "A data.frame: 6 × 19\n",
       "\n",
       "| <!--/--> | country &lt;fct&gt; | crop &lt;fct&gt; | region &lt;fct&gt; | agroeco &lt;fct&gt; | season &lt;fct&gt; | year &lt;fct&gt; | Officialnameofthevariety &lt;fct&gt; | improved &lt;fct&gt; | adoptionconsensus &lt;fct&gt; | adoptmin &lt;fct&gt; | adoptmax &lt;fct&gt; | observation &lt;fct&gt; | areaccc &lt;fct&gt; | areatot &lt;fct&gt; | varsreleasetot &lt;fct&gt; | varsreleaseCIPtot &lt;fct&gt; | varsCIPcultivated &lt;fct&gt; | varcip &lt;fct&gt; | Remarksonreleaseinformation &lt;fct&gt; |\n",
       "|---|---|---|---|---|---|---|---|---|---|---|---|---|---|---|---|---|---|---|---|\n",
       "| 1 | PA1        | PA2          | PA2.1 | PA3 | PA4    | PA5       | PC1        | PC2 | PD1 | PD2  | PD3 | PE | PB1  | PF1   | PF2 | PF3 | PF4 | PF8 | PF9 |\n",
       "| 2 | Bangladesh | Sweet potato | Dhaka | <!----> | Winter | 2014-2015 | CIP 440025 | 1   | 5   | 1    | 6   | <!----> | 8104 | 42999 | 13  | 8   | 4   | 1   | <!----> |\n",
       "| 3 | Bangladesh | Sweet potato | Dhaka | <!----> | Winter | 2014-2015 | D-44       | 1   | 2.5 | 0.1  | 5.3 | <!----> | 8104 | 42999 | 13  | 8   | 4   | 0   | <!----> |\n",
       "| 4 | Bangladesh | Sweet potato | Dhaka | <!----> | Winter | 2014-2015 | Tripti     | 1   | 1.2 | 0.2  | 5.3 | <!----> | 8104 | 42999 | 13  | 8   | 4   | 0   | <!----> |\n",
       "| 5 | Bangladesh | Sweet potato | Dhaka | <!----> | Winter | 2014-2015 | AIS-0122-2 | 1   | 0.8 | 0.2  | 5   | <!----> | 8104 | 42999 | 13  | 8   | 4   | 0   | <!----> |\n",
       "| 6 | Bangladesh | Sweet potato | Dhaka | <!----> | Winter | 2014-2015 | Daulatpuri | 1   | 0.5 | 0.25 | 0.8 | <!----> | 8104 | 42999 | 13  | 8   | 4   | 0   | <!----> |\n",
       "\n"
      ],
      "text/plain": [
       "  country    crop         region agroeco season year     \n",
       "1 PA1        PA2          PA2.1  PA3     PA4    PA5      \n",
       "2 Bangladesh Sweet potato Dhaka          Winter 2014-2015\n",
       "3 Bangladesh Sweet potato Dhaka          Winter 2014-2015\n",
       "4 Bangladesh Sweet potato Dhaka          Winter 2014-2015\n",
       "5 Bangladesh Sweet potato Dhaka          Winter 2014-2015\n",
       "6 Bangladesh Sweet potato Dhaka          Winter 2014-2015\n",
       "  Officialnameofthevariety improved adoptionconsensus adoptmin adoptmax\n",
       "1 PC1                      PC2      PD1               PD2      PD3     \n",
       "2 CIP 440025               1        5                 1        6       \n",
       "3 D-44                     1        2.5               0.1      5.3     \n",
       "4 Tripti                   1        1.2               0.2      5.3     \n",
       "5 AIS-0122-2               1        0.8               0.2      5       \n",
       "6 Daulatpuri               1        0.5               0.25     0.8     \n",
       "  observation areaccc areatot varsreleasetot varsreleaseCIPtot\n",
       "1 PE          PB1     PF1     PF2            PF3              \n",
       "2             8104    42999   13             8                \n",
       "3             8104    42999   13             8                \n",
       "4             8104    42999   13             8                \n",
       "5             8104    42999   13             8                \n",
       "6             8104    42999   13             8                \n",
       "  varsCIPcultivated varcip Remarksonreleaseinformation\n",
       "1 PF4               PF8    PF9                        \n",
       "2 4                 1                                 \n",
       "3 4                 0                                 \n",
       "4 4                 0                                 \n",
       "5 4                 0                                 \n",
       "6 4                 0                                 "
      ]
     },
     "metadata": {},
     "output_type": "display_data"
    }
   ],
   "source": [
    "f = \"../../dataset-for--adoption-estimates-of-modern-sweetpotato-varieties-in-selected-countries-in-southeast-2C-south-asia-and-east-asia./DataSet Sweetpotato db2 Adoption.tab\"\n",
    "d = read.table(f, header=TRUE)\n",
    "head(d)"
   ]
  },
  {
   "cell_type": "code",
   "execution_count": 8,
   "metadata": {},
   "outputs": [
    {
     "data": {
      "text/plain": [
       "\n",
       "      Bangladesh            China            India        Indonesia \n",
       "              28              197               52               48 \n",
       "           Nepal              PA1 Papua New Guinea      Philippines \n",
       "              28                1               21               29 \n",
       "         Vietnam \n",
       "              81 "
      ]
     },
     "metadata": {},
     "output_type": "display_data"
    }
   ],
   "source": []
  },
  {
   "cell_type": "code",
   "execution_count": 10,
   "metadata": {},
   "outputs": [
    {
     "data": {
      "image/png": "[encoded data removed]",
      "text/plain": [
       "plot without title"
      ]
     },
     "metadata": {
      "image/png": {
       "height": 420,
       "width": 420
      },
      "text/plain": {
       "height": 420,
       "width": 420
      }
     },
     "output_type": "display_data"
    }
   ],
   "source": [
    "barplot(table(d$country), col=rainbow(10))"
   ]
  },
  {
   "cell_type": "code",
   "execution_count": null,
   "metadata": {},
   "outputs": [],
   "source": []
  }
 ],
 "metadata": {
  "kernelspec": {
   "display_name": "R",
   "language": "R",
   "name": "ir"
  },
  "language_info": {
   "codemirror_mode": "r",
   "file_extension": ".r",
   "mimetype": "text/x-r-source",
   "name": "R",
   "pygments_lexer": "r",
   "version": "3.6.2"
  },
  "toc-autonumbering": true,
  "toc-showcode": true,
  "toc-showmarkdowntxt": true,
  "toc-showtags": true
 },
 "nbformat": 4,
 "nbformat_minor": 4
}
